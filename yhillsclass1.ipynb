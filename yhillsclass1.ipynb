{
 "cells": [
  {
   "cell_type": "code",
   "execution_count": 1,
   "id": "76d6d1fc",
   "metadata": {
    "scrolled": true
   },
   "outputs": [
    {
     "name": "stdout",
     "output_type": "stream",
     "text": [
      "Siddharth\n"
     ]
    }
   ],
   "source": [
    "print(\"Siddharth\")\n"
   ]
  },
  {
   "cell_type": "markdown",
   "id": "176bed30",
   "metadata": {},
   "source": [
    "print(\"Siddharth\")\n",
    "#My name"
   ]
  },
  {
   "cell_type": "markdown",
   "id": "68ef85aa",
   "metadata": {},
   "source": [
    "#Hello"
   ]
  },
  {
   "cell_type": "markdown",
   "id": "88aaae44",
   "metadata": {},
   "source": [
    "####hello"
   ]
  },
  {
   "cell_type": "code",
   "execution_count": null,
   "id": "37108d1e",
   "metadata": {},
   "outputs": [],
   "source": [
    "##"
   ]
  }
 ],
 "metadata": {
  "celltoolbar": "Slideshow",
  "kernelspec": {
   "display_name": "Python 3 (ipykernel)",
   "language": "python",
   "name": "python3"
  },
  "language_info": {
   "codemirror_mode": {
    "name": "ipython",
    "version": 3
   },
   "file_extension": ".py",
   "mimetype": "text/x-python",
   "name": "python",
   "nbconvert_exporter": "python",
   "pygments_lexer": "ipython3",
   "version": "3.9.12"
  }
 },
 "nbformat": 4,
 "nbformat_minor": 5
}
